{
 "cells": [
  {
   "cell_type": "markdown",
   "metadata": {},
   "source": [
    "# Bayesian optimization of a time-consuming simulator\n",
    "\n",
    "The aim of the lab is to optimize a time-consuming simulator using the Efficient Global Optimization (EGO) method. As a toy example, the simulator chosen here mimics a catapult. There are 4 input variables, tuning the catapult, and 1 output, giving the distance of the projectile mark to the catapult. We want to find the value(s) of the input variable(s) maximizing that distance. Notice that the simulator is not time-consuming. However, for the sake of realism, we will limit the computational budget to 36 runs."
   ]
  },
  {
   "cell_type": "markdown",
   "metadata": {},
   "source": [
    "## \"By-hand\" Optimization\n",
    "<br> We provide here a shiny application (authored by Nicolas Durrande), which allows using the simulator interactively. Alternatively, you can use the web application, available here : https://durrande.shinyapps.io/catapult/"
   ]
  },
  {
   "cell_type": "code",
   "execution_count": null,
   "metadata": {},
   "outputs": [],
   "source": [
    "library(shiny)\n",
    "# runApp()"
   ]
  },
  {
   "cell_type": "markdown",
   "metadata": {},
   "source": [
    "*Question: By playing with the simulator, propose a set of input values giving the largest possible value of the output. Here we consider the noise-free case, by fixing the wind to zero.*"
   ]
  },
  {
   "cell_type": "markdown",
   "metadata": {},
   "source": [
    "To continue running the notebook, you may need to interrupt the kernel (square symbol!). Then load the two following scripts, containing useful functions. "
   ]
  },
  {
   "cell_type": "code",
   "execution_count": null,
   "metadata": {},
   "outputs": [],
   "source": [
    "source(\"catapultSettings.R\")\n",
    "source(\"catapultFunctions.R\")"
   ]
  },
  {
   "cell_type": "markdown",
   "metadata": {},
   "source": [
    "## Design of experiments\n",
    "Let us create an initial design of experiments and compute the corresponding values."
   ]
  },
  {
   "cell_type": "code",
   "execution_count": null,
   "metadata": {},
   "outputs": [],
   "source": [
    "library(DiceDesign)\n",
    "set.seed(0)\n",
    "ninit <- 16\n",
    "d <- 4\n",
    "X0 <- lhsDesign(n = ninit, dimension = d)$design\n",
    "Xopt <- maximinESE_LHS(X0, it = 10)\n",
    "## you may be interested in the convergence\n",
    "#plot(Xopt$critValues,type=\"l\")\n",
    "X <- Xopt$design\n",
    "colnames(X) <- c(\"axis\", \"arm\", \"spring1\", \"spring2\")\n",
    "pairs(X)\n",
    "## compute the output values\n",
    "Y <- apply(X, 1, runExperiment, windFactor = 0)[1, ]"
   ]
  },
  {
   "cell_type": "markdown",
   "metadata": {},
   "source": [
    "Question : Observe that the design of experiments is \"space-filling\". <br> Why did we chose that kind of designs? What is the current maximum? Is it far from the maximum value found by-hand?"
   ]
  },
  {
   "cell_type": "markdown",
   "metadata": {},
   "source": [
    "## Descriptive statistics\n",
    "*Question : Can you see a simple input-output relation? What can you say about the area corresponding to the maximum value?*"
   ]
  },
  {
   "cell_type": "code",
   "execution_count": null,
   "metadata": {},
   "outputs": [],
   "source": [
    "pairs(cbind(Y, X))"
   ]
  },
  {
   "cell_type": "markdown",
   "metadata": {},
   "source": [
    "## Regression metamodel\n",
    "<br> *Question : Try the linear models below. If you replace the simulator by one of this model, what would be the optimum? Is it far from your previous guess?*"
   ]
  },
  {
   "cell_type": "code",
   "execution_count": null,
   "metadata": {},
   "outputs": [],
   "source": [
    "myData <- data.frame(X, Y = Y)\n",
    "mReg <- lm(Y ~ ., data = myData)\n",
    "summary(mReg)\n",
    "mReg2 <- lm(Y~ . + I(axis^2) + I (arm^2) + I (spring1^2) + I(spring2^2), data = myData)\n",
    "summary(mReg2)\n",
    "mStep <- step(object = mReg, scope = mReg2, direction = \"both\", k = log(length(Y)))\n",
    "summary(mStep)"
   ]
  },
  {
   "cell_type": "markdown",
   "metadata": {},
   "source": [
    "## Bayesian optimization\n",
    "Now, let us try the EGO method (Bayesian optimization)\n",
    "<br> *Question : Recall its main principles.*"
   ]
  },
  {
   "cell_type": "code",
   "execution_count": null,
   "metadata": {},
   "outputs": [],
   "source": [
    "library(DiceKriging)\n",
    "mGP0 <- km(~ 1, design = X, response = Y, multistart = 5)\n",
    "print(mGP0)   # display model\n",
    "plot(mGP0)    # visual model validation"
   ]
  },
  {
   "cell_type": "markdown",
   "metadata": {},
   "source": [
    "*Questions: What is the role of the argument 'multistart'? What can you say about the performance and the validity of this first model?*"
   ]
  },
  {
   "cell_type": "code",
   "execution_count": null,
   "metadata": {},
   "outputs": [],
   "source": [
    "library(DiceOptim)\n",
    "\n",
    "## We first transform the problem to a minimization one\n",
    "runExperimentFun <- function(x) {\n",
    "    - runExperiment(x, wind = 0)[1]\n",
    "}\n",
    "Y <- apply(X, 1, runExperimentFun)\n",
    "mGP0 <- km(~ 1, design = X, response = Y)\n",
    "\n",
    "## Step 1 ##\n",
    "oEGO <- max_EI(model = mGP0, lower = rep(0, d), upper = rep(1, d))\n",
    "newX <- oEGO$par\n",
    "newy <- runExperimentFun(newX)\n",
    "\n",
    "cat(\"Expected improvement was:\", round(oEGO$value, 2),\n",
    "    \"\\nActual improvement is:\", round(min(Y) - newy, 2),\n",
    "    \"\\n   (>0 means the new point is better, <0 means it is worse)\")"
   ]
  },
  {
   "cell_type": "code",
   "execution_count": null,
   "metadata": {},
   "outputs": [],
   "source": [
    "# Then we update the model\n",
    "mGP1 <- update(mGP0, newX, newy)\n",
    "# and maximize again the expected improvement: \n",
    "## Step 2 ##\n",
    "oEGO <- max_EI(model = mGP1, lower = rep(0, d), upper = rep(1, d))\n",
    "newX <- oEGO$par\n",
    "newy <- runExperimentFun(newX)\n",
    "\n",
    "cat(\"Expected improvement was:\", round(oEGO$value, 2),\n",
    "    \"\\nActual improvement is:\", round(min(mGP1@y) - newy, 2),\n",
    "    \"\\n   (>0 means the new point is better, <0 means its worst)\")"
   ]
  },
  {
   "cell_type": "code",
   "execution_count": null,
   "metadata": {},
   "outputs": [],
   "source": [
    "# Do a loop to automatize the process (for noise-free observations, you can also use EGO.nsteps)\n",
    "nsteps <- 20\n",
    "mGP <- mGP0\n",
    "EGOpar <- matrix(NA, nrow = nsteps, ncol = d)\n",
    "EGOvalue <- rep(NA, nsteps)\n",
    "for (i in 1:nsteps){\n",
    "    oEGO <- max_EI(model = mGP, lower = rep(0, d), upper = rep(1, d))\n",
    "    newX <- EGOpar[i, ] <- oEGO$par\n",
    "    newy <- EGOvalue[i] <- runExperimentFun(newX)\n",
    "    mGP <- update(mGP, newX, newy)\n",
    "}\n",
    "\n",
    "bestIndex <- which.min(EGOvalue)\n",
    "cat(\"longest shot observed:\", - round(EGOvalue[bestIndex], 2),\n",
    "    \"\\ncorresponding input values:\", round(EGOpar[bestIndex, ], 2))\n"
   ]
  },
  {
   "cell_type": "markdown",
   "metadata": {},
   "source": [
    "Global minimum found by EGO:"
   ]
  },
  {
   "cell_type": "code",
   "execution_count": null,
   "metadata": {},
   "outputs": [],
   "source": [
    "EGOpar[bestIndex, ]\n",
    "runExperimentFun(EGOpar[bestIndex, ])"
   ]
  },
  {
   "cell_type": "markdown",
   "metadata": {},
   "source": [
    "Let us visualize the 20 points computed with EGO in the X-Y space, and in time order."
   ]
  },
  {
   "cell_type": "code",
   "execution_count": null,
   "metadata": {},
   "outputs": [],
   "source": [
    "visualizeEGO <- function(initDesign, initValues, EGOpoints, EGOvalues){\n",
    "  bestIndex <- which.min(EGOvalues)\n",
    "  y <- c(initValues, EGOvalues, EGOvalues[bestIndex])\n",
    "  X <- rbind(initDesign, EGOpoints, EGOpoints[bestIndex, ])\n",
    "  nsteps <- nrow(EGOpoints)\n",
    "  pairs(cbind(y, X), \n",
    "        col = c(rep(\"black\", ninit), rep(\"blue\", nsteps), \"red\"),\n",
    "        pch = c(rep(1, ninit), rep(19, nsteps + 1)))\n",
    "}\n",
    "\n",
    "visualizeEGO(initDesign = X, initValues = Y,\n",
    "             EGOpoints = EGOpar, EGOvalues = EGOvalue)"
   ]
  },
  {
   "cell_type": "code",
   "execution_count": null,
   "metadata": {},
   "outputs": [],
   "source": [
    "plot(c(Y, EGOvalue), main = \"convergence\", xlab = \"evaluation number\", ylab = \"Y values\")\n",
    "lines(rep(ninit, 2), range(Y, EGOvalue), lty = 2, col = \"gray\")\n",
    "lines(ninit + 0:nsteps, cummin(c(min(Y), EGOvalue)), col = \"red\", lwd = 2)"
   ]
  },
  {
   "cell_type": "markdown",
   "metadata": {},
   "source": [
    " Questions : \n",
    " * *Why the EGO method would be much less efficient by using a linear model instead of a GP model?*\n",
    " * *Modify the code in order to deal with noisy observations, with the EQI criterion (mind using the argument 'noise.var' in 'km').*\n",
    " * *Investigate the influence: [a] of a trend in the model (change 'formula' in 'km'); [b] of a kernel; [c] of the initial sample size.*\n",
    " * *Adapt the EGO method in order to provide a batch of 2 points at one (function qEGO.nsteps), which is useful in practice, as the 2 runs of the time-consuming simulator can be done in parallel.*"
   ]
  },
  {
   "cell_type": "markdown",
   "metadata": {},
   "source": [
    "Bonus : As the function is quick to evaluate, compare the result with the maximum value obtained with a standard optimizor (from library nloptr for instance). You can use the 'runExperimentFun' function defined above."
   ]
  }
 ],
 "metadata": {
  "celltoolbar": "Format de la Cellule Texte Brut",
  "kernelspec": {
   "display_name": "R",
   "language": "R",
   "name": "ir"
  },
  "language_info": {
   "codemirror_mode": "r",
   "file_extension": ".r",
   "mimetype": "text/x-r-source",
   "name": "R",
   "pygments_lexer": "r",
   "version": "3.6.3"
  },
  "toc": {
   "base_numbering": "1",
   "nav_menu": {},
   "number_sections": true,
   "sideBar": true,
   "skip_h1_title": true,
   "title_cell": "Table of Contents",
   "title_sidebar": "Contents",
   "toc_cell": false,
   "toc_position": {},
   "toc_section_display": true,
   "toc_window_display": true
  }
 },
 "nbformat": 4,
 "nbformat_minor": 2
}
